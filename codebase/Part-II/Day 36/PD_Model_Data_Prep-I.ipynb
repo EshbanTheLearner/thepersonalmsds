{
  "nbformat": 4,
  "nbformat_minor": 0,
  "metadata": {
    "colab": {
      "name": "PD-Model-Data-Prep.ipynb",
      "provenance": [],
      "collapsed_sections": []
    },
    "kernelspec": {
      "name": "python3",
      "display_name": "Python 3"
    }
  },
  "cells": [
    {
      "cell_type": "code",
      "metadata": {
        "id": "pOU2u7ZnUSK6"
      },
      "source": [
        "import pandas as pd\n",
        "import numpy as np"
      ],
      "execution_count": 1,
      "outputs": []
    },
    {
      "cell_type": "code",
      "metadata": {
        "id": "-F6sD3ZIUXWs"
      },
      "source": [
        "url = \"https://foretheta-devop.s3-us-west-2.amazonaws.com/test-eshban/loan_data_preprocessed.csv\""
      ],
      "execution_count": 2,
      "outputs": []
    },
    {
      "cell_type": "code",
      "metadata": {
        "id": "nsAX0NewUuFw",
        "outputId": "2d0eea1c-79a8-480e-8c47-fffc57088674",
        "colab": {
          "base_uri": "https://localhost:8080/"
        }
      },
      "source": [
        "loan_data = pd.read_csv(url)\n",
        "loan_data.shape"
      ],
      "execution_count": 3,
      "outputs": [
        {
          "output_type": "stream",
          "text": [
            "/usr/local/lib/python3.6/dist-packages/IPython/core/interactiveshell.py:2718: DtypeWarning: Columns (20,48) have mixed types.Specify dtype option on import or set low_memory=False.\n",
            "  interactivity=interactivity, compiler=compiler, result=result)\n"
          ],
          "name": "stderr"
        },
        {
          "output_type": "execute_result",
          "data": {
            "text/plain": [
              "(466285, 207)"
            ]
          },
          "metadata": {
            "tags": []
          },
          "execution_count": 3
        }
      ]
    },
    {
      "cell_type": "code",
      "metadata": {
        "id": "wrggyNwuUyAq",
        "outputId": "6e82f4e4-c3cc-47a9-d725-6c594cb0b2d9",
        "colab": {
          "base_uri": "https://localhost:8080/",
          "height": 627
        }
      },
      "source": [
        "loan_data.head()"
      ],
      "execution_count": 4,
      "outputs": [
        {
          "output_type": "execute_result",
          "data": {
            "text/html": [
              "<div>\n",
              "<style scoped>\n",
              "    .dataframe tbody tr th:only-of-type {\n",
              "        vertical-align: middle;\n",
              "    }\n",
              "\n",
              "    .dataframe tbody tr th {\n",
              "        vertical-align: top;\n",
              "    }\n",
              "\n",
              "    .dataframe thead th {\n",
              "        text-align: right;\n",
              "    }\n",
              "</style>\n",
              "<table border=\"1\" class=\"dataframe\">\n",
              "  <thead>\n",
              "    <tr style=\"text-align: right;\">\n",
              "      <th></th>\n",
              "      <th>Unnamed: 0</th>\n",
              "      <th>id</th>\n",
              "      <th>member_id</th>\n",
              "      <th>loan_amnt</th>\n",
              "      <th>funded_amnt</th>\n",
              "      <th>funded_amnt_inv</th>\n",
              "      <th>term</th>\n",
              "      <th>int_rate</th>\n",
              "      <th>installment</th>\n",
              "      <th>grade</th>\n",
              "      <th>sub_grade</th>\n",
              "      <th>emp_title</th>\n",
              "      <th>emp_length</th>\n",
              "      <th>home_ownership</th>\n",
              "      <th>annual_inc</th>\n",
              "      <th>verification_status</th>\n",
              "      <th>issue_d</th>\n",
              "      <th>loan_status</th>\n",
              "      <th>pymnt_plan</th>\n",
              "      <th>url</th>\n",
              "      <th>desc</th>\n",
              "      <th>purpose</th>\n",
              "      <th>title</th>\n",
              "      <th>zip_code</th>\n",
              "      <th>addr_state</th>\n",
              "      <th>dti</th>\n",
              "      <th>delinq_2yrs</th>\n",
              "      <th>earliest_cr_line</th>\n",
              "      <th>inq_last_6mths</th>\n",
              "      <th>mths_since_last_delinq</th>\n",
              "      <th>mths_since_last_record</th>\n",
              "      <th>open_acc</th>\n",
              "      <th>pub_rec</th>\n",
              "      <th>revol_bal</th>\n",
              "      <th>revol_util</th>\n",
              "      <th>total_acc</th>\n",
              "      <th>initial_list_status</th>\n",
              "      <th>out_prncp</th>\n",
              "      <th>out_prncp_inv</th>\n",
              "      <th>total_pymnt</th>\n",
              "      <th>...</th>\n",
              "      <th>addr_state:IA</th>\n",
              "      <th>addr_state:ID</th>\n",
              "      <th>addr_state:IL</th>\n",
              "      <th>addr_state:IN</th>\n",
              "      <th>addr_state:KS</th>\n",
              "      <th>addr_state:KY</th>\n",
              "      <th>addr_state:LA</th>\n",
              "      <th>addr_state:MA</th>\n",
              "      <th>addr_state:MD</th>\n",
              "      <th>addr_state:ME</th>\n",
              "      <th>addr_state:MI</th>\n",
              "      <th>addr_state:MN</th>\n",
              "      <th>addr_state:MO</th>\n",
              "      <th>addr_state:MS</th>\n",
              "      <th>addr_state:MT</th>\n",
              "      <th>addr_state:NC</th>\n",
              "      <th>addr_state:NE</th>\n",
              "      <th>addr_state:NH</th>\n",
              "      <th>addr_state:NJ</th>\n",
              "      <th>addr_state:NM</th>\n",
              "      <th>addr_state:NV</th>\n",
              "      <th>addr_state:NY</th>\n",
              "      <th>addr_state:OH</th>\n",
              "      <th>addr_state:OK</th>\n",
              "      <th>addr_state:OR</th>\n",
              "      <th>addr_state:PA</th>\n",
              "      <th>addr_state:RI</th>\n",
              "      <th>addr_state:SC</th>\n",
              "      <th>addr_state:SD</th>\n",
              "      <th>addr_state:TN</th>\n",
              "      <th>addr_state:TX</th>\n",
              "      <th>addr_state:UT</th>\n",
              "      <th>addr_state:VA</th>\n",
              "      <th>addr_state:VT</th>\n",
              "      <th>addr_state:WA</th>\n",
              "      <th>addr_state:WI</th>\n",
              "      <th>addr_state:WV</th>\n",
              "      <th>addr_state:WY</th>\n",
              "      <th>initial_list_status:f</th>\n",
              "      <th>initial_list_status:w</th>\n",
              "    </tr>\n",
              "  </thead>\n",
              "  <tbody>\n",
              "    <tr>\n",
              "      <th>0</th>\n",
              "      <td>0</td>\n",
              "      <td>1077501</td>\n",
              "      <td>1296599</td>\n",
              "      <td>5000</td>\n",
              "      <td>5000</td>\n",
              "      <td>4975.0</td>\n",
              "      <td>36 months</td>\n",
              "      <td>10.65</td>\n",
              "      <td>162.87</td>\n",
              "      <td>B</td>\n",
              "      <td>B2</td>\n",
              "      <td>NaN</td>\n",
              "      <td>10+ years</td>\n",
              "      <td>RENT</td>\n",
              "      <td>24000.0</td>\n",
              "      <td>Verified</td>\n",
              "      <td>Dec-11</td>\n",
              "      <td>Fully Paid</td>\n",
              "      <td>n</td>\n",
              "      <td>https://www.lendingclub.com/browse/loanDetail....</td>\n",
              "      <td>Borrower added on 12/22/11 &gt; I need to upgra...</td>\n",
              "      <td>credit_card</td>\n",
              "      <td>Computer</td>\n",
              "      <td>860xx</td>\n",
              "      <td>AZ</td>\n",
              "      <td>27.65</td>\n",
              "      <td>0.0</td>\n",
              "      <td>Jan-85</td>\n",
              "      <td>1.0</td>\n",
              "      <td>NaN</td>\n",
              "      <td>NaN</td>\n",
              "      <td>3.0</td>\n",
              "      <td>0.0</td>\n",
              "      <td>13648</td>\n",
              "      <td>83.7</td>\n",
              "      <td>9.0</td>\n",
              "      <td>f</td>\n",
              "      <td>0.0</td>\n",
              "      <td>0.0</td>\n",
              "      <td>5861.071414</td>\n",
              "      <td>...</td>\n",
              "      <td>0</td>\n",
              "      <td>0</td>\n",
              "      <td>0</td>\n",
              "      <td>0</td>\n",
              "      <td>0</td>\n",
              "      <td>0</td>\n",
              "      <td>0</td>\n",
              "      <td>0</td>\n",
              "      <td>0</td>\n",
              "      <td>0</td>\n",
              "      <td>0</td>\n",
              "      <td>0</td>\n",
              "      <td>0</td>\n",
              "      <td>0</td>\n",
              "      <td>0</td>\n",
              "      <td>0</td>\n",
              "      <td>0</td>\n",
              "      <td>0</td>\n",
              "      <td>0</td>\n",
              "      <td>0</td>\n",
              "      <td>0</td>\n",
              "      <td>0</td>\n",
              "      <td>0</td>\n",
              "      <td>0</td>\n",
              "      <td>0</td>\n",
              "      <td>0</td>\n",
              "      <td>0</td>\n",
              "      <td>0</td>\n",
              "      <td>0</td>\n",
              "      <td>0</td>\n",
              "      <td>0</td>\n",
              "      <td>0</td>\n",
              "      <td>0</td>\n",
              "      <td>0</td>\n",
              "      <td>0</td>\n",
              "      <td>0</td>\n",
              "      <td>0</td>\n",
              "      <td>0</td>\n",
              "      <td>1</td>\n",
              "      <td>0</td>\n",
              "    </tr>\n",
              "    <tr>\n",
              "      <th>1</th>\n",
              "      <td>1</td>\n",
              "      <td>1077430</td>\n",
              "      <td>1314167</td>\n",
              "      <td>2500</td>\n",
              "      <td>2500</td>\n",
              "      <td>2500.0</td>\n",
              "      <td>60 months</td>\n",
              "      <td>15.27</td>\n",
              "      <td>59.83</td>\n",
              "      <td>C</td>\n",
              "      <td>C4</td>\n",
              "      <td>Ryder</td>\n",
              "      <td>&lt; 1 year</td>\n",
              "      <td>RENT</td>\n",
              "      <td>30000.0</td>\n",
              "      <td>Source Verified</td>\n",
              "      <td>Dec-11</td>\n",
              "      <td>Charged Off</td>\n",
              "      <td>n</td>\n",
              "      <td>https://www.lendingclub.com/browse/loanDetail....</td>\n",
              "      <td>Borrower added on 12/22/11 &gt; I plan to use t...</td>\n",
              "      <td>car</td>\n",
              "      <td>bike</td>\n",
              "      <td>309xx</td>\n",
              "      <td>GA</td>\n",
              "      <td>1.00</td>\n",
              "      <td>0.0</td>\n",
              "      <td>Apr-99</td>\n",
              "      <td>5.0</td>\n",
              "      <td>NaN</td>\n",
              "      <td>NaN</td>\n",
              "      <td>3.0</td>\n",
              "      <td>0.0</td>\n",
              "      <td>1687</td>\n",
              "      <td>9.4</td>\n",
              "      <td>4.0</td>\n",
              "      <td>f</td>\n",
              "      <td>0.0</td>\n",
              "      <td>0.0</td>\n",
              "      <td>1008.710000</td>\n",
              "      <td>...</td>\n",
              "      <td>0</td>\n",
              "      <td>0</td>\n",
              "      <td>0</td>\n",
              "      <td>0</td>\n",
              "      <td>0</td>\n",
              "      <td>0</td>\n",
              "      <td>0</td>\n",
              "      <td>0</td>\n",
              "      <td>0</td>\n",
              "      <td>0</td>\n",
              "      <td>0</td>\n",
              "      <td>0</td>\n",
              "      <td>0</td>\n",
              "      <td>0</td>\n",
              "      <td>0</td>\n",
              "      <td>0</td>\n",
              "      <td>0</td>\n",
              "      <td>0</td>\n",
              "      <td>0</td>\n",
              "      <td>0</td>\n",
              "      <td>0</td>\n",
              "      <td>0</td>\n",
              "      <td>0</td>\n",
              "      <td>0</td>\n",
              "      <td>0</td>\n",
              "      <td>0</td>\n",
              "      <td>0</td>\n",
              "      <td>0</td>\n",
              "      <td>0</td>\n",
              "      <td>0</td>\n",
              "      <td>0</td>\n",
              "      <td>0</td>\n",
              "      <td>0</td>\n",
              "      <td>0</td>\n",
              "      <td>0</td>\n",
              "      <td>0</td>\n",
              "      <td>0</td>\n",
              "      <td>0</td>\n",
              "      <td>1</td>\n",
              "      <td>0</td>\n",
              "    </tr>\n",
              "    <tr>\n",
              "      <th>2</th>\n",
              "      <td>2</td>\n",
              "      <td>1077175</td>\n",
              "      <td>1313524</td>\n",
              "      <td>2400</td>\n",
              "      <td>2400</td>\n",
              "      <td>2400.0</td>\n",
              "      <td>36 months</td>\n",
              "      <td>15.96</td>\n",
              "      <td>84.33</td>\n",
              "      <td>C</td>\n",
              "      <td>C5</td>\n",
              "      <td>NaN</td>\n",
              "      <td>10+ years</td>\n",
              "      <td>RENT</td>\n",
              "      <td>12252.0</td>\n",
              "      <td>Not Verified</td>\n",
              "      <td>Dec-11</td>\n",
              "      <td>Fully Paid</td>\n",
              "      <td>n</td>\n",
              "      <td>https://www.lendingclub.com/browse/loanDetail....</td>\n",
              "      <td>NaN</td>\n",
              "      <td>small_business</td>\n",
              "      <td>real estate business</td>\n",
              "      <td>606xx</td>\n",
              "      <td>IL</td>\n",
              "      <td>8.72</td>\n",
              "      <td>0.0</td>\n",
              "      <td>Nov-01</td>\n",
              "      <td>2.0</td>\n",
              "      <td>NaN</td>\n",
              "      <td>NaN</td>\n",
              "      <td>2.0</td>\n",
              "      <td>0.0</td>\n",
              "      <td>2956</td>\n",
              "      <td>98.5</td>\n",
              "      <td>10.0</td>\n",
              "      <td>f</td>\n",
              "      <td>0.0</td>\n",
              "      <td>0.0</td>\n",
              "      <td>3003.653644</td>\n",
              "      <td>...</td>\n",
              "      <td>0</td>\n",
              "      <td>0</td>\n",
              "      <td>1</td>\n",
              "      <td>0</td>\n",
              "      <td>0</td>\n",
              "      <td>0</td>\n",
              "      <td>0</td>\n",
              "      <td>0</td>\n",
              "      <td>0</td>\n",
              "      <td>0</td>\n",
              "      <td>0</td>\n",
              "      <td>0</td>\n",
              "      <td>0</td>\n",
              "      <td>0</td>\n",
              "      <td>0</td>\n",
              "      <td>0</td>\n",
              "      <td>0</td>\n",
              "      <td>0</td>\n",
              "      <td>0</td>\n",
              "      <td>0</td>\n",
              "      <td>0</td>\n",
              "      <td>0</td>\n",
              "      <td>0</td>\n",
              "      <td>0</td>\n",
              "      <td>0</td>\n",
              "      <td>0</td>\n",
              "      <td>0</td>\n",
              "      <td>0</td>\n",
              "      <td>0</td>\n",
              "      <td>0</td>\n",
              "      <td>0</td>\n",
              "      <td>0</td>\n",
              "      <td>0</td>\n",
              "      <td>0</td>\n",
              "      <td>0</td>\n",
              "      <td>0</td>\n",
              "      <td>0</td>\n",
              "      <td>0</td>\n",
              "      <td>1</td>\n",
              "      <td>0</td>\n",
              "    </tr>\n",
              "    <tr>\n",
              "      <th>3</th>\n",
              "      <td>3</td>\n",
              "      <td>1076863</td>\n",
              "      <td>1277178</td>\n",
              "      <td>10000</td>\n",
              "      <td>10000</td>\n",
              "      <td>10000.0</td>\n",
              "      <td>36 months</td>\n",
              "      <td>13.49</td>\n",
              "      <td>339.31</td>\n",
              "      <td>C</td>\n",
              "      <td>C1</td>\n",
              "      <td>AIR RESOURCES BOARD</td>\n",
              "      <td>10+ years</td>\n",
              "      <td>RENT</td>\n",
              "      <td>49200.0</td>\n",
              "      <td>Source Verified</td>\n",
              "      <td>Dec-11</td>\n",
              "      <td>Fully Paid</td>\n",
              "      <td>n</td>\n",
              "      <td>https://www.lendingclub.com/browse/loanDetail....</td>\n",
              "      <td>Borrower added on 12/21/11 &gt; to pay for prop...</td>\n",
              "      <td>other</td>\n",
              "      <td>personel</td>\n",
              "      <td>917xx</td>\n",
              "      <td>CA</td>\n",
              "      <td>20.00</td>\n",
              "      <td>0.0</td>\n",
              "      <td>Feb-96</td>\n",
              "      <td>1.0</td>\n",
              "      <td>35.0</td>\n",
              "      <td>NaN</td>\n",
              "      <td>10.0</td>\n",
              "      <td>0.0</td>\n",
              "      <td>5598</td>\n",
              "      <td>21.0</td>\n",
              "      <td>37.0</td>\n",
              "      <td>f</td>\n",
              "      <td>0.0</td>\n",
              "      <td>0.0</td>\n",
              "      <td>12226.302210</td>\n",
              "      <td>...</td>\n",
              "      <td>0</td>\n",
              "      <td>0</td>\n",
              "      <td>0</td>\n",
              "      <td>0</td>\n",
              "      <td>0</td>\n",
              "      <td>0</td>\n",
              "      <td>0</td>\n",
              "      <td>0</td>\n",
              "      <td>0</td>\n",
              "      <td>0</td>\n",
              "      <td>0</td>\n",
              "      <td>0</td>\n",
              "      <td>0</td>\n",
              "      <td>0</td>\n",
              "      <td>0</td>\n",
              "      <td>0</td>\n",
              "      <td>0</td>\n",
              "      <td>0</td>\n",
              "      <td>0</td>\n",
              "      <td>0</td>\n",
              "      <td>0</td>\n",
              "      <td>0</td>\n",
              "      <td>0</td>\n",
              "      <td>0</td>\n",
              "      <td>0</td>\n",
              "      <td>0</td>\n",
              "      <td>0</td>\n",
              "      <td>0</td>\n",
              "      <td>0</td>\n",
              "      <td>0</td>\n",
              "      <td>0</td>\n",
              "      <td>0</td>\n",
              "      <td>0</td>\n",
              "      <td>0</td>\n",
              "      <td>0</td>\n",
              "      <td>0</td>\n",
              "      <td>0</td>\n",
              "      <td>0</td>\n",
              "      <td>1</td>\n",
              "      <td>0</td>\n",
              "    </tr>\n",
              "    <tr>\n",
              "      <th>4</th>\n",
              "      <td>4</td>\n",
              "      <td>1075358</td>\n",
              "      <td>1311748</td>\n",
              "      <td>3000</td>\n",
              "      <td>3000</td>\n",
              "      <td>3000.0</td>\n",
              "      <td>60 months</td>\n",
              "      <td>12.69</td>\n",
              "      <td>67.79</td>\n",
              "      <td>B</td>\n",
              "      <td>B5</td>\n",
              "      <td>University Medical Group</td>\n",
              "      <td>1 year</td>\n",
              "      <td>RENT</td>\n",
              "      <td>80000.0</td>\n",
              "      <td>Source Verified</td>\n",
              "      <td>Dec-11</td>\n",
              "      <td>Current</td>\n",
              "      <td>n</td>\n",
              "      <td>https://www.lendingclub.com/browse/loanDetail....</td>\n",
              "      <td>Borrower added on 12/21/11 &gt; I plan on combi...</td>\n",
              "      <td>other</td>\n",
              "      <td>Personal</td>\n",
              "      <td>972xx</td>\n",
              "      <td>OR</td>\n",
              "      <td>17.94</td>\n",
              "      <td>0.0</td>\n",
              "      <td>Jan-96</td>\n",
              "      <td>0.0</td>\n",
              "      <td>38.0</td>\n",
              "      <td>NaN</td>\n",
              "      <td>15.0</td>\n",
              "      <td>0.0</td>\n",
              "      <td>27783</td>\n",
              "      <td>53.9</td>\n",
              "      <td>38.0</td>\n",
              "      <td>f</td>\n",
              "      <td>766.9</td>\n",
              "      <td>766.9</td>\n",
              "      <td>3242.170000</td>\n",
              "      <td>...</td>\n",
              "      <td>0</td>\n",
              "      <td>0</td>\n",
              "      <td>0</td>\n",
              "      <td>0</td>\n",
              "      <td>0</td>\n",
              "      <td>0</td>\n",
              "      <td>0</td>\n",
              "      <td>0</td>\n",
              "      <td>0</td>\n",
              "      <td>0</td>\n",
              "      <td>0</td>\n",
              "      <td>0</td>\n",
              "      <td>0</td>\n",
              "      <td>0</td>\n",
              "      <td>0</td>\n",
              "      <td>0</td>\n",
              "      <td>0</td>\n",
              "      <td>0</td>\n",
              "      <td>0</td>\n",
              "      <td>0</td>\n",
              "      <td>0</td>\n",
              "      <td>0</td>\n",
              "      <td>0</td>\n",
              "      <td>0</td>\n",
              "      <td>1</td>\n",
              "      <td>0</td>\n",
              "      <td>0</td>\n",
              "      <td>0</td>\n",
              "      <td>0</td>\n",
              "      <td>0</td>\n",
              "      <td>0</td>\n",
              "      <td>0</td>\n",
              "      <td>0</td>\n",
              "      <td>0</td>\n",
              "      <td>0</td>\n",
              "      <td>0</td>\n",
              "      <td>0</td>\n",
              "      <td>0</td>\n",
              "      <td>1</td>\n",
              "      <td>0</td>\n",
              "    </tr>\n",
              "  </tbody>\n",
              "</table>\n",
              "<p>5 rows × 207 columns</p>\n",
              "</div>"
            ],
            "text/plain": [
              "   Unnamed: 0       id  ...  initial_list_status:f  initial_list_status:w\n",
              "0           0  1077501  ...                      1                      0\n",
              "1           1  1077430  ...                      1                      0\n",
              "2           2  1077175  ...                      1                      0\n",
              "3           3  1076863  ...                      1                      0\n",
              "4           4  1075358  ...                      1                      0\n",
              "\n",
              "[5 rows x 207 columns]"
            ]
          },
          "metadata": {
            "tags": []
          },
          "execution_count": 4
        }
      ]
    },
    {
      "cell_type": "code",
      "metadata": {
        "id": "uhdcEe9lUzSo",
        "outputId": "55277866-c958-424a-d875-68be73172763",
        "colab": {
          "base_uri": "https://localhost:8080/"
        }
      },
      "source": [
        "loan_data['loan_status'].unique()"
      ],
      "execution_count": 5,
      "outputs": [
        {
          "output_type": "execute_result",
          "data": {
            "text/plain": [
              "array(['Fully Paid', 'Charged Off', 'Current', 'Default',\n",
              "       'Late (31-120 days)', 'In Grace Period', 'Late (16-30 days)',\n",
              "       'Does not meet the credit policy. Status:Fully Paid',\n",
              "       'Does not meet the credit policy. Status:Charged Off'],\n",
              "      dtype=object)"
            ]
          },
          "metadata": {
            "tags": []
          },
          "execution_count": 5
        }
      ]
    },
    {
      "cell_type": "code",
      "metadata": {
        "id": "PnQ_PYKnW4qe",
        "outputId": "1f366bc6-63b8-4793-8795-d08ee3991841",
        "colab": {
          "base_uri": "https://localhost:8080/"
        }
      },
      "source": [
        "loan_data['loan_status'].value_counts()"
      ],
      "execution_count": 6,
      "outputs": [
        {
          "output_type": "execute_result",
          "data": {
            "text/plain": [
              "Current                                                224226\n",
              "Fully Paid                                             184739\n",
              "Charged Off                                             42475\n",
              "Late (31-120 days)                                       6900\n",
              "In Grace Period                                          3146\n",
              "Does not meet the credit policy. Status:Fully Paid       1988\n",
              "Late (16-30 days)                                        1218\n",
              "Default                                                   832\n",
              "Does not meet the credit policy. Status:Charged Off       761\n",
              "Name: loan_status, dtype: int64"
            ]
          },
          "metadata": {
            "tags": []
          },
          "execution_count": 6
        }
      ]
    },
    {
      "cell_type": "code",
      "metadata": {
        "id": "WN8dby6dW6Kq",
        "outputId": "36c98063-66f2-4e35-e170-b065d68af551",
        "colab": {
          "base_uri": "https://localhost:8080/"
        }
      },
      "source": [
        "loan_data['loan_status'].value_counts() / loan_data['loan_status'].count()"
      ],
      "execution_count": 7,
      "outputs": [
        {
          "output_type": "execute_result",
          "data": {
            "text/plain": [
              "Current                                                0.480878\n",
              "Fully Paid                                             0.396193\n",
              "Charged Off                                            0.091092\n",
              "Late (31-120 days)                                     0.014798\n",
              "In Grace Period                                        0.006747\n",
              "Does not meet the credit policy. Status:Fully Paid     0.004263\n",
              "Late (16-30 days)                                      0.002612\n",
              "Default                                                0.001784\n",
              "Does not meet the credit policy. Status:Charged Off    0.001632\n",
              "Name: loan_status, dtype: float64"
            ]
          },
          "metadata": {
            "tags": []
          },
          "execution_count": 7
        }
      ]
    },
    {
      "cell_type": "code",
      "metadata": {
        "id": "wIwDELWbW7p_"
      },
      "source": [
        "loan_data['good_bad'] = np.where(loan_data['loan_status'].isin(['Charged Off', 'Default',\n",
        "                                                       'Does not meet the credit policy. Status:Charged Off',\n",
        "                                                       'Late (31-120 days)']), 0, 1)"
      ],
      "execution_count": 8,
      "outputs": []
    },
    {
      "cell_type": "code",
      "metadata": {
        "id": "bmNXzx-uW983",
        "outputId": "ef0d68b0-eb9a-4e0d-8e03-da03a1a040d7",
        "colab": {
          "base_uri": "https://localhost:8080/"
        }
      },
      "source": [
        "loan_data['good_bad']"
      ],
      "execution_count": 9,
      "outputs": [
        {
          "output_type": "execute_result",
          "data": {
            "text/plain": [
              "0         1\n",
              "1         0\n",
              "2         1\n",
              "3         1\n",
              "4         1\n",
              "         ..\n",
              "466280    1\n",
              "466281    0\n",
              "466282    1\n",
              "466283    1\n",
              "466284    1\n",
              "Name: good_bad, Length: 466285, dtype: int64"
            ]
          },
          "metadata": {
            "tags": []
          },
          "execution_count": 9
        }
      ]
    },
    {
      "cell_type": "code",
      "metadata": {
        "id": "Z7T-G2MzW_ca"
      },
      "source": [
        "from sklearn.model_selection import train_test_split"
      ],
      "execution_count": 10,
      "outputs": []
    },
    {
      "cell_type": "code",
      "metadata": {
        "id": "Eat1PARjXCsr",
        "outputId": "f18cf60b-1d3a-447b-927c-ba09e74a916f",
        "colab": {
          "base_uri": "https://localhost:8080/"
        }
      },
      "source": [
        "train_test_split(loan_data.drop('good_bad', axis = 1), loan_data['good_bad'])"
      ],
      "execution_count": 11,
      "outputs": [
        {
          "output_type": "execute_result",
          "data": {
            "text/plain": [
              "[        Unnamed: 0        id  ...  initial_list_status:f  initial_list_status:w\n",
              " 47348        47348   9777425  ...                      1                      0\n",
              " 263263      263263  32288763  ...                      0                      1\n",
              " 224469      224469   1172478  ...                      1                      0\n",
              " 8483          8483    862873  ...                      1                      0\n",
              " 68374        68374   8600586  ...                      1                      0\n",
              " ...            ...       ...  ...                    ...                    ...\n",
              " 259982      259982  34301984  ...                      1                      0\n",
              " 300870      300870  28702683  ...                      1                      0\n",
              " 43091        43091  10138845  ...                      0                      1\n",
              " 302309      302309  27520736  ...                      1                      0\n",
              " 6568          6568    967192  ...                      1                      0\n",
              " \n",
              " [349713 rows x 207 columns],\n",
              "         Unnamed: 0        id  ...  initial_list_status:f  initial_list_status:w\n",
              " 15093        15093    755184  ...                      1                      0\n",
              " 192164      192164   1601836  ...                      1                      0\n",
              " 433357      433357  12488049  ...                      1                      0\n",
              " 74300        74300   8147533  ...                      1                      0\n",
              " 140009      140009   5026591  ...                      1                      0\n",
              " ...            ...       ...  ...                    ...                    ...\n",
              " 343455      343455  21281676  ...                      0                      1\n",
              " 262868      262868  33371613  ...                      0                      1\n",
              " 240615      240615  36109433  ...                      1                      0\n",
              " 53931        53931   9238444  ...                      1                      0\n",
              " 462715      462715  10092020  ...                      1                      0\n",
              " \n",
              " [116572 rows x 207 columns],\n",
              " 47348     1\n",
              " 263263    1\n",
              " 224469    1\n",
              " 8483      1\n",
              " 68374     1\n",
              "          ..\n",
              " 259982    1\n",
              " 300870    1\n",
              " 43091     1\n",
              " 302309    1\n",
              " 6568      1\n",
              " Name: good_bad, Length: 349713, dtype: int64,\n",
              " 15093     1\n",
              " 192164    0\n",
              " 433357    1\n",
              " 74300     1\n",
              " 140009    1\n",
              "          ..\n",
              " 343455    1\n",
              " 262868    1\n",
              " 240615    1\n",
              " 53931     1\n",
              " 462715    1\n",
              " Name: good_bad, Length: 116572, dtype: int64]"
            ]
          },
          "metadata": {
            "tags": []
          },
          "execution_count": 11
        }
      ]
    },
    {
      "cell_type": "code",
      "metadata": {
        "id": "6Q2iDmBXXEAi"
      },
      "source": [
        "loan_data_inputs_train, loan_data_inputs_test, loan_data_targets_train, loan_data_targets_test = train_test_split(loan_data.drop('good_bad', axis = 1), loan_data['good_bad'])"
      ],
      "execution_count": 12,
      "outputs": []
    },
    {
      "cell_type": "code",
      "metadata": {
        "id": "7-10ehkoXFW1",
        "outputId": "e21f8d41-b3a1-4406-fe4c-bbe58a81639d",
        "colab": {
          "base_uri": "https://localhost:8080/"
        }
      },
      "source": [
        "loan_data_inputs_train.shape"
      ],
      "execution_count": 13,
      "outputs": [
        {
          "output_type": "execute_result",
          "data": {
            "text/plain": [
              "(349713, 207)"
            ]
          },
          "metadata": {
            "tags": []
          },
          "execution_count": 13
        }
      ]
    },
    {
      "cell_type": "code",
      "metadata": {
        "id": "Zb8sgbHuXHLN",
        "outputId": "b156b4f0-6fa3-4036-c41d-c65103d090c7",
        "colab": {
          "base_uri": "https://localhost:8080/"
        }
      },
      "source": [
        "loan_data_targets_train.shape"
      ],
      "execution_count": 14,
      "outputs": [
        {
          "output_type": "execute_result",
          "data": {
            "text/plain": [
              "(349713,)"
            ]
          },
          "metadata": {
            "tags": []
          },
          "execution_count": 14
        }
      ]
    },
    {
      "cell_type": "code",
      "metadata": {
        "id": "Bm9yn1p4XIrN",
        "outputId": "3ef0ab97-5351-45a2-aa2c-d5d4f932e6ce",
        "colab": {
          "base_uri": "https://localhost:8080/"
        }
      },
      "source": [
        "loan_data_inputs_test.shape"
      ],
      "execution_count": 15,
      "outputs": [
        {
          "output_type": "execute_result",
          "data": {
            "text/plain": [
              "(116572, 207)"
            ]
          },
          "metadata": {
            "tags": []
          },
          "execution_count": 15
        }
      ]
    },
    {
      "cell_type": "code",
      "metadata": {
        "id": "CowOohI-XKE1",
        "outputId": "52f5d330-1dfc-4863-fcb2-d4568daaac44",
        "colab": {
          "base_uri": "https://localhost:8080/"
        }
      },
      "source": [
        "loan_data_targets_test.shape"
      ],
      "execution_count": 16,
      "outputs": [
        {
          "output_type": "execute_result",
          "data": {
            "text/plain": [
              "(116572,)"
            ]
          },
          "metadata": {
            "tags": []
          },
          "execution_count": 16
        }
      ]
    },
    {
      "cell_type": "code",
      "metadata": {
        "id": "adww9cxzXLSB"
      },
      "source": [
        "loan_data_inputs_train, loan_data_inputs_test, loan_data_targets_train, loan_data_targets_test = train_test_split(loan_data.drop('good_bad', axis = 1), loan_data['good_bad'], test_size = 0.2, random_state = 42)"
      ],
      "execution_count": 17,
      "outputs": []
    },
    {
      "cell_type": "code",
      "metadata": {
        "id": "PeTzPyQlXM7Y",
        "outputId": "1b414d9e-164c-4527-e609-5e3da733b444",
        "colab": {
          "base_uri": "https://localhost:8080/"
        }
      },
      "source": [
        "loan_data_inputs_train.shape"
      ],
      "execution_count": 18,
      "outputs": [
        {
          "output_type": "execute_result",
          "data": {
            "text/plain": [
              "(373028, 207)"
            ]
          },
          "metadata": {
            "tags": []
          },
          "execution_count": 18
        }
      ]
    },
    {
      "cell_type": "code",
      "metadata": {
        "id": "ZapviOjUXPRJ",
        "outputId": "5a50179c-a28f-471f-9ea3-edac92f88c42",
        "colab": {
          "base_uri": "https://localhost:8080/"
        }
      },
      "source": [
        "loan_data_targets_train.shape"
      ],
      "execution_count": 19,
      "outputs": [
        {
          "output_type": "execute_result",
          "data": {
            "text/plain": [
              "(373028,)"
            ]
          },
          "metadata": {
            "tags": []
          },
          "execution_count": 19
        }
      ]
    },
    {
      "cell_type": "code",
      "metadata": {
        "id": "d1jkBxVMXQmr",
        "outputId": "58c89b1c-fab9-45ee-ebad-344cd99bcfb5",
        "colab": {
          "base_uri": "https://localhost:8080/"
        }
      },
      "source": [
        "loan_data_inputs_test.shape"
      ],
      "execution_count": 20,
      "outputs": [
        {
          "output_type": "execute_result",
          "data": {
            "text/plain": [
              "(93257, 207)"
            ]
          },
          "metadata": {
            "tags": []
          },
          "execution_count": 20
        }
      ]
    },
    {
      "cell_type": "code",
      "metadata": {
        "id": "IU61JF4xXalI",
        "outputId": "4405b3a6-fd65-4c4a-a391-5c583db0823d",
        "colab": {
          "base_uri": "https://localhost:8080/"
        }
      },
      "source": [
        "loan_data_targets_test.shape"
      ],
      "execution_count": 21,
      "outputs": [
        {
          "output_type": "execute_result",
          "data": {
            "text/plain": [
              "(93257,)"
            ]
          },
          "metadata": {
            "tags": []
          },
          "execution_count": 21
        }
      ]
    },
    {
      "cell_type": "code",
      "metadata": {
        "id": "IB-gKvGpXudv"
      },
      "source": [
        ""
      ],
      "execution_count": null,
      "outputs": []
    }
  ]
}